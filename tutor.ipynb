{
 "cells": [
  {
   "cell_type": "markdown",
   "metadata": {},
   "source": [
    "# 用Python进行数据分析\n",
    "By 高朴远"
   ]
  },
  {
   "cell_type": "code",
   "execution_count": 1,
   "metadata": {
    "collapsed": false,
    "scrolled": true
   },
   "outputs": [
    {
     "name": "stdout",
     "output_type": "stream",
     "text": [
      "Populating the interactive namespace from numpy and matplotlib\n"
     ]
    }
   ],
   "source": [
    "%pylab inline"
   ]
  },
  {
   "cell_type": "markdown",
   "metadata": {},
   "source": [
    "先引入pylab环境,此行命令是IPython的专有命令,并非Python所有."
   ]
  },
  {
   "cell_type": "markdown",
   "metadata": {},
   "source": [
    "## 1.Python简明教程\n",
    "\n",
    "本节不会详细讲解Python的语法教程, 旨在为那些想\"加载点数据, 做点计算, 再画点图\" 的使用者提供一份语言精要.\n",
    "如果你想详尽的学习Python或者了解一些细节, 可以去查看Python的官方教程:(http://docs.python.org). \n",
    "\n",
    "如果仅仅想使用Python进行高效的数据分析工作, 完全没有必要非成为Python专家不可, 熟悉数据处理的几个工具和相关类型, 函数以及方法即可. \n",
    "\n",
    "+ Python是一种解释性语言\n",
    "\n",
    "类似于matlib或者mathmatica这样的软件, Python也是一种可以在一个交互式的解释器(类似于mathmaica打开的界面)键入一行行的命令来执行的语言. 在安装好Python的电脑上打开Python解释器, 其交互页面如下:\n",
    "\n",
    "-----    \n",
    "```python\n",
    "Python 2.7.6 (default, Jun 22 2015, 17:58:13) \n",
    "[GCC 4.8.2] on linux2\n",
    "Type \"help\", \"copyright\", \"credits\" or \"license\" for more information.\n",
    ">>> \n",
    "```\n",
    "\n",
    "---\n",
    "\n",
    "\n",
    "> PS: 强烈建议在Windows上安装Python科学运算集成包, 如:Python(x,y), **Anaconda**. \n",
    "\n",
    "\n",
    "在上面的 `>>>` 后面就是要输入命令的地方.\n",
    "\n",
    "在实际使用中,科学运算工作者更倾向于使用Ipython, 这是一个增强版的解释器, 提供了类似于mathmatica的输入界面以及代码补全等很多方面的功能.\n",
    "\n",
    "+ 使用缩进, 而非\"{}\".\n",
    "\n",
    "Python是通过缩进来组织代码的(制表符或者空格), 不想其他的语言(如:R, C++, JAVA, Perl) 用的是大括号. 以for循环为例:\n",
    "\n",
    "---\n",
    "```python\n",
    "for x in array:\n",
    "    if x < pivot:\n",
    "        less.append(x)\n",
    "    else:\n",
    "        greater.append(x)\n",
    "```\n",
    "---\n",
    "\n",
    "这种行为是强制的, 如果没有进行正确的缩进, 就会在执行时出现错误. \n",
    "这么做的好处是可以代码在写出来时就具有层次感, 更加易于阅读和分享, 这也是Python现在越来流行的原因之一. \n",
    "\n",
    "> PS: 强烈建议使用4个空格作为默认的缩减量,事实上这已经成为了一种标准. 大部分文本编辑器都支持将Tab键替换为4个空格.\n",
    "\n",
    "+ 万物皆对象\n",
    "\n",
    "Python中的任何数值, 字符串, 数据结构, 函数, 类, 模块, 都是以Python对象的形式存在的, 这就提供了一致性, 使得Python在使用时非常灵活.(关于对象的概念,请查阅有关OOP(面向对象编程)的资料. \n",
    "\n",
    "+ 注释\n",
    "\n",
    "Python使用井号(#)号作为注释提示符, 任何前缀为#的文本都会被忽略掉. 这不仅在标注信息时有用, 在debug时也很有用.\n",
    "\n",
    "+ 函数的调用和对象方法的调用\n",
    "\n",
    "函数调用需要使用函数名+()的形式, 例如:\n",
    "\n",
    "---\n",
    "```python\n",
    "def sum(a,b):   #函数定义\n",
    "    return a+b\n",
    "sum(1,2)  #函数调用,return 3.\n",
    "```\n",
    "---\n",
    "\n",
    "Python中的所有函数对象都具有一些附属的属性或者方法(也就是函数), 这些都可以通过点运算符(.)来获取或者调用. 例如:\n",
    "\n",
    "---\n",
    "```python\n",
    "obj.some_method(x, y, z)  #对象方法的调用\n",
    "```\n",
    "---\n",
    "\n",
    "+ 属性和方法\n",
    "\n",
    "Python中每一个对象通常都既有一个属性(attribute, 表示一种数据), 又有方法(method, 一些函数, 通常可以访问和处理内部的数据). 例如:\n",
    "\n",
    "---\n",
    "```python\n",
    "In [1]: a = 'foo'\n",
    "In [2]: a.<Tab>\n",
    "a.capitalize    a.endswith      a.index         a.isidentifier  a.istitle       a.lstrip        a.rindex        a.split         a.title\n",
    "a.casefold      a.expandtabs    a.isalnum       a.islower       a.isupper       a.maketrans     a.rjust         a.splitlines    a.translate\n",
    "a.center        a.find          a.isalpha       a.isnumeric     a.join          a.partition     a.rpartition    a.startswith    a.upper\n",
    "a.count         a.format        a.isdecimal     a.isprintable   a.ljust         a.replace       a.rsplit        a.strip         a.zfill\n",
    "a.encode        a.format_map    a.isdigit       a.isspace       a.lower         a.rfind         a.rstrip        a.swapcase      \n",
    "```\n",
    "---\n",
    "\n",
    "+ 引入(import)\n",
    "\n",
    "在Python中, 模块(module)就是一个含有函数和变量定义的.py文件. \n",
    "假如我们有一个.py文件:\n",
    "\n",
    "---\n",
    "```python\n",
    "# some_module.py\n",
    "PI = 3.14159\n",
    "\n",
    "def f(x):\n",
    "    return x + 2\n",
    "    \n",
    "def g(a, b):\n",
    "    return a + b\n",
    "```\n",
    "---\n",
    "\n",
    "那么我们可以在另一个文件中使用到这个文件中定义的函数和变量, 从而达到代码复用的目的:\n",
    "\n",
    "---\n",
    "```python\n",
    "#Other.py\n",
    "import some_module #不需要后缀名, 只需要把名字写对\n",
    "result = some_module.f(5) # result = 5 +2 =7\n",
    "pi = some_module.PI #PI = 3.14159\n",
    "```\n",
    "---\n",
    "\n",
    "如上例子中如果觉得这个some_module名字太长不好打, 还可以用: `import some_module as sm` 的形式引入, 这样下文中的所有some_module都可以用sm代替了. \n",
    "\n",
    "*以上, 这些只是对与Python做一个简单的入门和熟悉, 并不是一份完整的教程, 也因此有很多细节(甚至是那些至关重要的细节)没有提到, 大家可以去参考网上丰富的参考资料.* "
   ]
  },
  {
   "cell_type": "markdown",
   "metadata": {},
   "source": [
    "# 2.一个数据处理的例子"
   ]
  },
  {
   "cell_type": "code",
   "execution_count": null,
   "metadata": {
    "collapsed": true
   },
   "outputs": [],
   "source": []
  }
 ],
 "metadata": {
  "kernelspec": {
   "display_name": "Python 3",
   "language": "python",
   "name": "python3"
  },
  "language_info": {
   "codemirror_mode": {
    "name": "ipython",
    "version": 3
   },
   "file_extension": ".py",
   "mimetype": "text/x-python",
   "name": "python",
   "nbconvert_exporter": "python",
   "pygments_lexer": "ipython3",
   "version": "3.5.1"
  }
 },
 "nbformat": 4,
 "nbformat_minor": 0
}
